{
 "cells": [
  {
   "cell_type": "code",
   "execution_count": 25,
   "metadata": {},
   "outputs": [
    {
     "name": "stdout",
     "output_type": "stream",
     "text": [
      "https://www.theguardian.com/uk/rss 106\n",
      "http://feeds.bbci.co.uk/news/uk/rss.xml 40\n",
      "https://www.dailymail.co.uk/home/index.rss 150\n",
      "https://www.telegraph.co.uk/rss.xml 100\n",
      "http://www.independent.co.uk/rss 101\n",
      "https://www.mirror.co.uk/?service=rss 25\n",
      "https://www.thesun.co.uk/feed/ 100\n",
      "http://feeds.feedburner.com/daily-express-news-showbiz 10\n",
      "https://metro.co.uk/feed/ 30\n",
      "https://www.channel4.com/news/feed 15\n",
      "https://www.huffingtonpost.co.uk/feeds/index.xml 50\n"
     ]
    }
   ],
   "source": [
    "from pymongo import MongoClient\n",
    "import pymongo\n",
    "import feedparser\n",
    "from pprint import pprint\n",
    "import datetime\n",
    "\n",
    "# open database connection\n",
    "username=\"root\"\n",
    "password=\"mongo\"\n",
    "client = MongoClient('mongodb://%s:%s@127.0.0.1' % (username, password))\n",
    "db = client.headings\n",
    "db.headings.create_index([('title', pymongo.TEXT)], name='search_index', default_language='english')\n",
    "\n",
    "# loop on sources\n",
    "for source in db.sources.find():\n",
    "\n",
    "    if \"userAgent\" in source:\n",
    "        feed = feedparser.parse(source[\"rss\"], agent=source[\"userAgent\"])\n",
    "    else:\n",
    "        feed = feedparser.parse(source[\"rss\"])\n",
    "    print(feed.href, len(feed.entries))\n",
    "    \n",
    "    for entry in feed.entries:\n",
    "        entry[\"_source\"] = source\n",
    "        entry[\"_fetched\"] = datetime.datetime.utcnow()\n",
    "        entry[\"_timestamp\"] = datetime.datetime(*entry[\"published_parsed\"][0:6]) if \"published_parsed\" in entry else entry[\"_fetched\"]\n",
    "        \n",
    "        key = {\"id\": entry.id}\n",
    "        db.headings.replace_one(key, entry, True)\n"
   ]
  },
  {
   "cell_type": "code",
   "execution_count": null,
   "metadata": {},
   "outputs": [],
   "source": []
  }
 ],
 "metadata": {
  "kernelspec": {
   "display_name": "Python 3",
   "language": "python",
   "name": "python3"
  },
  "language_info": {
   "codemirror_mode": {
    "name": "ipython",
    "version": 3
   },
   "file_extension": ".py",
   "mimetype": "text/x-python",
   "name": "python",
   "nbconvert_exporter": "python",
   "pygments_lexer": "ipython3",
   "version": "3.7.6"
  }
 },
 "nbformat": 4,
 "nbformat_minor": 4
}
