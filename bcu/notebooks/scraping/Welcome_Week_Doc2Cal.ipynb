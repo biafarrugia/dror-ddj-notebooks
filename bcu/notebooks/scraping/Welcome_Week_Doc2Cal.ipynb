{
 "cells": [
  {
   "cell_type": "markdown",
   "metadata": {},
   "source": [
    "### Convert Welcome Week Schedule (.docx) into a calender file importable by google calendar (and others)"
   ]
  },
  {
   "cell_type": "code",
   "execution_count": 136,
   "metadata": {},
   "outputs": [
    {
     "name": "stdout",
     "output_type": "stream",
     "text": [
      "read 15 events\n",
      "{'date': '14/09/20', 'from': '11:00', 'to': '12:00', 'title': 'Meet your course leader and fellow  students All your questions answered by your course leader  – and start to get to know your fellow students. Link to the  meeting on Teams', 'text': 'Meet your course leader and fellow  students All your questions answered by your course leader  – and start to get to know your fellow students. Link to the  meeting on Teams', 'href': 'https://teams.microsoft.com/l/meetup-join/19%3ameeting_NzlmMTc0NjYtNjM3Zi00OTgzLWJlMTctNDVkMzEzZDU2NWRm%40thread.v2/0?context=%7b%22Tid%22%3a%227e2be055-828a-4523-b5e5-b77ad9939785%22%2c%22Oid%22%3a%22105033a2-5ca7-410d-9739-440f0056562b%22%7d'}\n"
     ]
    }
   ],
   "source": [
    "import re\n",
    "from bs4 import BeautifulSoup\n",
    "import requests\n",
    "\n",
    "html_path = \"/tmp/timetable.html\"\n",
    "ics_path = \"/tmp/timetable.ics\"\n",
    "\n",
    "with open(html_path, 'r') as file:\n",
    "    data = file.read()\n",
    "\n",
    "# Parse the html content\n",
    "soup = BeautifulSoup(data, \"lxml\")\n",
    "\n",
    "clean_time_re = re.compile(\"[^0-9]\")\n",
    "def split_time(t):\n",
    "    t = clean_time_re.sub(\"\", t)\n",
    "    t = t.replace(\"00\", \":00 \")\n",
    "    t = t.replace(\"30\", \":30 \")\n",
    "    times = []\n",
    "    for time in t.strip().split(\" \"):\n",
    "        t1 = time.split(\":\")\n",
    "        if int(t1[0]) < 7:\n",
    "            times.append(\"%d:%s\" % (int(t1[0])+12, t1[1]))\n",
    "        else:\n",
    "            times.append(time)\n",
    "    return times\n",
    "\n",
    "def clean_text(t):\n",
    "    t = t.replace(\"\\n\", \" \")\n",
    "    t = t.replace(\"  \", \" \")\n",
    "    return t\n",
    "\n",
    "\n",
    "events = []\n",
    "for rowIndex, row in enumerate(soup.find(\"table\").find_all(\"tr\")):\n",
    "    r = []\n",
    "    for colIndex, td in enumerate(row.find_all(\"td\")):\n",
    "        text = clean_text(td.text).strip()\n",
    "        href = \"\"\n",
    "        for link in td.find_all(\"a\"):\n",
    "            href = link.get(\"href\")\n",
    "        r.append(text)\n",
    "        \n",
    "        if rowIndex and colIndex and len(text):\n",
    "            title = text.split(\"\\n\")[0]\n",
    "            times = split_time(r[0])\n",
    "            event = {\"date\":heading[colIndex], \"from\": times[0].strip(), \"to\": times[1].strip(), \"title\": title, \"text\": text, \"href\": href}\n",
    "            events.append(event)\n",
    "        \n",
    "    if not rowIndex:\n",
    "        heading = r\n",
    "print(\"read %d events\" % len(events))\n",
    "print(events[0])\n"
   ]
  },
  {
   "cell_type": "code",
   "execution_count": 146,
   "metadata": {},
   "outputs": [
    {
     "name": "stdout",
     "output_type": "stream",
     "text": [
      "BEGIN:VCALENDAR\n",
      "VERSION:2.0\n",
      "PRODID:ics.py - http://git.io/lLljaA\n",
      "BEGIN:VEVENT\n",
      "DTEND:20200914T130000Z\n",
      "DTSTART:20200914T120000Z\n",
      "SUMMARY:Meet  your Student Success Advisers (SSAs) SSAs are Arts\\, Design and Media graduates who can  provide lots of insider tips and support.   Link to the Activity on Teams\n",
      "UID:0dd7e0cb-5f27-4a23-87d2-ad70903d5380@0dd7.org\n"
     ]
    }
   ],
   "source": [
    "from ics import Calendar, Event\n",
    "from datetime import datetime\n",
    "from dateutil import tz\n",
    "date_format = '%Y-%m-%d %H:%M:%S' # Format the ics module expects the dates to be in\n",
    "\n",
    "def make_time(event, key):\n",
    "    date_toks = event[\"date\"].split(\"/\")\n",
    "    t = \"20%s-%s-%s %s:00\" % (date_toks[2], date_toks[1], date_toks[0], event[key])\n",
    "    dt = datetime.strptime(t,date_format).replace(tzinfo=tz.gettz('BST'))\n",
    "    dt = dt.astimezone(tz.tzutc())\n",
    "    return dt.strftime(date_format)\n",
    "\n",
    "c = Calendar()\n",
    "for event in events:\n",
    "    e = Event()\n",
    "    e.name = event[\"text\"]\n",
    "    e.begin = make_time(event, \"from\")\n",
    "    e.end = make_time(event, \"to\")\n",
    "    e.url = event[\"href\"]\n",
    "    c.events.add(e)\n",
    "\n",
    "with open(ics_path, 'w') as my_file:\n",
    "    my_file.writelines(c)\n",
    "    \n",
    "with open(ics_path) as myfile:\n",
    "    [print(next(myfile).strip()) for x in range(8)]\n"
   ]
  },
  {
   "cell_type": "code",
   "execution_count": null,
   "metadata": {},
   "outputs": [],
   "source": []
  }
 ],
 "metadata": {
  "kernelspec": {
   "display_name": "Python 3",
   "language": "python",
   "name": "python3"
  },
  "language_info": {
   "codemirror_mode": {
    "name": "ipython",
    "version": 3
   },
   "file_extension": ".py",
   "mimetype": "text/x-python",
   "name": "python",
   "nbconvert_exporter": "python",
   "pygments_lexer": "ipython3",
   "version": "3.7.6"
  }
 },
 "nbformat": 4,
 "nbformat_minor": 4
}
