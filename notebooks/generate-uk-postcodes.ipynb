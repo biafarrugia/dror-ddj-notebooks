{
 "cells": [
  {
   "cell_type": "code",
   "execution_count": 8,
   "metadata": {},
   "outputs": [
    {
     "name": "stdout",
     "output_type": "stream",
     "text": [
      "S9B0FT\n",
      "SW8N6BS\n",
      "E54LS\n",
      "HP23XF\n",
      "L2W2ET\n",
      "E8G6ZL\n",
      "WD220PU\n",
      "L4E4YR\n",
      "B48UQ\n",
      "N916GY\n",
      "N5G9UH\n",
      "N66PH\n",
      "G4J6JF\n",
      "NE2B3BW\n",
      "N705GR\n",
      "G5G4RR\n",
      "TD8H8HY\n",
      "S64AN\n",
      "E63FA\n",
      "RH384GL\n",
      "HD729GL\n",
      "E0D3TL\n",
      "GU5H9UX\n",
      "N766YF\n",
      "M95RL\n",
      "G7H6XF\n",
      "ZE1R6YS\n",
      "CO4Y5TX\n",
      "N7D7HS\n",
      "S5A3HG\n",
      "S510QX\n",
      "L5W2GY\n",
      "BB1N8FD\n",
      "N8W0AE\n",
      "B79NR\n",
      "SA875WG\n",
      "DD41DZ\n",
      "W9W8RU\n",
      "G43ZL\n",
      "DY3W8GZ\n",
      "TS914RU\n",
      "WS87ZF\n",
      "S4B4GD\n",
      "CA0N3RA\n",
      "B763UL\n",
      "WR912TH\n",
      "IG033LN\n",
      "L45HU\n",
      "TA6A0GE\n",
      "N575DA\n"
     ]
    }
   ],
   "source": [
    "# generate UK postcodes\n",
    "\n",
    "from faker import Faker\n",
    "fake = Faker('en_UK')\n",
    "for _ in range(50):\n",
    "    print(fake.address().split(\"\\n\")[-1].replace(\" \", \"\"))"
   ]
  },
  {
   "cell_type": "code",
   "execution_count": null,
   "metadata": {},
   "outputs": [],
   "source": []
  },
  {
   "cell_type": "code",
   "execution_count": null,
   "metadata": {},
   "outputs": [],
   "source": []
  }
 ],
 "metadata": {
  "kernelspec": {
   "display_name": "Python 3",
   "language": "python",
   "name": "python3"
  },
  "language_info": {
   "codemirror_mode": {
    "name": "ipython",
    "version": 3
   },
   "file_extension": ".py",
   "mimetype": "text/x-python",
   "name": "python",
   "nbconvert_exporter": "python",
   "pygments_lexer": "ipython3",
   "version": "3.7.6"
  }
 },
 "nbformat": 4,
 "nbformat_minor": 4
}
