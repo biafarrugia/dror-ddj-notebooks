{
 "cells": [
  {
   "cell_type": "markdown",
   "metadata": {},
   "source": [
    "## What is the optimal geometry for social distancing?\n",
    "\n",
    "Given the desire to position N people, in 2D space,  while maintaing minimal distance of not closer then 2m, is there an optimal arragement? and if so, what is it, for N=2 to N=10"
   ]
  },
  {
   "cell_type": "code",
   "execution_count": 201,
   "metadata": {},
   "outputs": [
    {
     "name": "stdout",
     "output_type": "stream",
     "text": [
      "sample3: 2.0\n",
      "sample4: 2.2761423749153966\n",
      "sample4_2: 2.2440169358562922\n",
      "sample5: 2.731370849898476\n",
      "sample5_2: 2.4928203230275505\n"
     ]
    }
   ],
   "source": [
    "import numpy as np\n",
    "import math\n",
    "\n",
    "# sample point sets\n",
    "c3 = 2*math.sin(math.pi/3)\n",
    "c2 = 2*math.sin(math.pi/4)\n",
    "sample3 = np.array(((0, 0), (2, 0), (1, c3)))\n",
    "sample4 = np.array(((0, 0), (2, 0), (0, 2), (2, 2)))\n",
    "sample4_2 = np.array(((0, 0), (2, 0), (1, c3), (1, -c3)))\n",
    "sample5 = np.array(((0, 0), (2, 0), (-2, 0), (0, 2), (0, -2)))\n",
    "\n",
    "sample5_2 = np.array(((0, 0), (2, 0), (1, c3), (1, -c3), (-1, -c3)))\n",
    "sample5_3 = np.array(((0, 0), (c2, c2), (c2, -c2), (-c2, c2), (-c2, -c2)))\n",
    "sample5_4 = np.array(((0, 0), (-1, c3), (1, c3), (1, -c3), (-1, -c3)))\n",
    "\n",
    "\n",
    "\n",
    "sample7 = np.array(((0, 0), (2, 0), (1, c3), (1, -c3), (-2, 0), (-1, c3), (-1, -c3)))\n",
    "\n",
    "\n",
    "# calc average distance in array\n",
    "def avgdist(ar):\n",
    "    sum = 0\n",
    "    for c in it.combinations(ar, 2):\n",
    "        d = np.linalg.norm(c[0]-c[1])\n",
    "        if round(d, 8) < 2:\n",
    "            return 0\n",
    "        sum += d\n",
    "    trig = (ar.shape[0] * (ar.shape[0] - 1)) / 2\n",
    "    return sum / trig\n",
    "\n",
    "print(\"sample3: %s\" % str(avgdist(sample3)))\n",
    "print(\"sample4: %s\" % str(avgdist(sample4)))\n",
    "print(\"sample4_2: %s\" % str(avgdist(sample4_2)))\n",
    "print(\"sample5: %s\" % str(avgdist(sample5)))\n",
    "print(\"sample5_2: %s\" % str(avgdist(sample5_2)))\n",
    "\n"
   ]
  },
  {
   "cell_type": "code",
   "execution_count": 202,
   "metadata": {},
   "outputs": [
    {
     "data": {
      "image/png": "[encoded data removed]",
      "text/plain": [
       "<Figure size 576x576 with 4 Axes>"
      ]
     },
     "metadata": {
      "needs_background": "light"
     },
     "output_type": "display_data"
    }
   ],
   "source": [
    "fig, axs = plt.subplots(2, 2)\n",
    "def showaxe(axe, ar):\n",
    "    axe.tick_params(axis='x', which='both', bottom=False, top=False, labelbottom=False)\n",
    "    axe.scatter(ar[:,0], ar[:,1], 400)\n",
    "    axe.set_xlim(-3, 3)\n",
    "    axe.set_ylim(-3, 3)\n",
    "    axe.grid()\n",
    "    fig.gca().set_aspect('equal', adjustable='box')\n",
    "    fig.set_size_inches(8, 8)\n",
    "    axe.set_title(\"N=%d, D=%f\" % (ar.shape[0], avgdist(ar)))\n",
    "\n",
    "    \n",
    "    \n",
    "showaxe(axs[0][0], sample5_2)\n",
    "showaxe(axs[0][1], sample5_3)\n",
    "showaxe(axs[1][0], sample5_4)\n",
    "showaxe(axs[1][1], sample7)"
   ]
  },
  {
   "cell_type": "code",
   "execution_count": null,
   "metadata": {},
   "outputs": [],
   "source": []
  }
 ],
 "metadata": {
  "kernelspec": {
   "display_name": "Python 3",
   "language": "python",
   "name": "python3"
  },
  "language_info": {
   "codemirror_mode": {
    "name": "ipython",
    "version": 3
   },
   "file_extension": ".py",
   "mimetype": "text/x-python",
   "name": "python",
   "nbconvert_exporter": "python",
   "pygments_lexer": "ipython3",
   "version": "3.7.4"
  }
 },
 "nbformat": 4,
 "nbformat_minor": 4
}
