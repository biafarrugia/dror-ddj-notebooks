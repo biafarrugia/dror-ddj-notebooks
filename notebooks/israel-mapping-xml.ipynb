{
 "cells": [
  {
   "cell_type": "markdown",
   "metadata": {},
   "source": [
    "## Israel Mapping Data\n",
    "\n",
    "For now just a pile of code fragments"
   ]
  },
  {
   "cell_type": "code",
   "execution_count": 2,
   "metadata": {},
   "outputs": [],
   "source": [
    "# get places data from gov mapping agency\n",
    "import xml.etree.cElementTree as et\n",
    "from urllib.request import urlopen\n",
    "\n",
    "xml = et.fromstring(urlopen(\"https://www.mapi.gov.il/ProfessionalInfo/Documents/dataGov/CITY.xml\").read())"
   ]
  },
  {
   "cell_type": "code",
   "execution_count": 4,
   "metadata": {},
   "outputs": [
    {
     "data": {
      "text/html": [
       "<div>\n",
       "<style scoped>\n",
       "    .dataframe tbody tr th:only-of-type {\n",
       "        vertical-align: middle;\n",
       "    }\n",
       "\n",
       "    .dataframe tbody tr th {\n",
       "        vertical-align: top;\n",
       "    }\n",
       "\n",
       "    .dataframe thead th {\n",
       "        text-align: right;\n",
       "    }\n",
       "</style>\n",
       "<table border=\"1\" class=\"dataframe\">\n",
       "  <thead>\n",
       "    <tr style=\"text-align: right;\">\n",
       "      <th></th>\n",
       "      <th>name</th>\n",
       "      <th>code</th>\n",
       "      <th>ita_x</th>\n",
       "      <th>ita_y</th>\n",
       "    </tr>\n",
       "  </thead>\n",
       "  <tbody>\n",
       "    <tr>\n",
       "      <th>0</th>\n",
       "      <td>GANNE YOHANAN</td>\n",
       "      <td>862</td>\n",
       "      <td>184689.8424</td>\n",
       "      <td>640598.3157</td>\n",
       "    </tr>\n",
       "    <tr>\n",
       "      <th>1</th>\n",
       "      <td>GINNATON</td>\n",
       "      <td>863</td>\n",
       "      <td>191979.3488</td>\n",
       "      <td>652283.0239</td>\n",
       "    </tr>\n",
       "    <tr>\n",
       "      <th>2</th>\n",
       "      <td>BEQOA</td>\n",
       "      <td>864</td>\n",
       "      <td>193011.0640</td>\n",
       "      <td>637420.9841</td>\n",
       "    </tr>\n",
       "    <tr>\n",
       "      <th>3</th>\n",
       "      <td>SHIBBOLIM</td>\n",
       "      <td>865</td>\n",
       "      <td>162693.9971</td>\n",
       "      <td>589541.0036</td>\n",
       "    </tr>\n",
       "    <tr>\n",
       "      <th>4</th>\n",
       "      <td>YOTVATA</td>\n",
       "      <td>866</td>\n",
       "      <td>205802.5761</td>\n",
       "      <td>422945.2318</td>\n",
       "    </tr>\n",
       "    <tr>\n",
       "      <th>...</th>\n",
       "      <td>...</td>\n",
       "      <td>...</td>\n",
       "      <td>...</td>\n",
       "      <td>...</td>\n",
       "    </tr>\n",
       "    <tr>\n",
       "      <th>1235</th>\n",
       "      <td>BET SHEMESH</td>\n",
       "      <td>2610</td>\n",
       "      <td>199203.4669</td>\n",
       "      <td>628089.6932</td>\n",
       "    </tr>\n",
       "    <tr>\n",
       "      <th>1236</th>\n",
       "      <td>QIRYAT ONO</td>\n",
       "      <td>2620</td>\n",
       "      <td>186802.4399</td>\n",
       "      <td>662891.2008</td>\n",
       "    </tr>\n",
       "    <tr>\n",
       "      <th>1237</th>\n",
       "      <td>QIRYAT GAT</td>\n",
       "      <td>2630</td>\n",
       "      <td>178645.1995</td>\n",
       "      <td>612555.1406</td>\n",
       "    </tr>\n",
       "    <tr>\n",
       "      <th>1238</th>\n",
       "      <td>ROSH HAAYIN</td>\n",
       "      <td>2640</td>\n",
       "      <td>196219.0173</td>\n",
       "      <td>667109.6278</td>\n",
       "    </tr>\n",
       "    <tr>\n",
       "      <th>1239</th>\n",
       "      <td>RAMAT HASHARON</td>\n",
       "      <td>2650</td>\n",
       "      <td>185142.2704</td>\n",
       "      <td>671471.2297</td>\n",
       "    </tr>\n",
       "  </tbody>\n",
       "</table>\n",
       "<p>1240 rows × 4 columns</p>\n",
       "</div>"
      ],
      "text/plain": [
       "                name  code        ita_x        ita_y\n",
       "0      GANNE YOHANAN   862  184689.8424  640598.3157\n",
       "1           GINNATON   863  191979.3488  652283.0239\n",
       "2              BEQOA   864  193011.0640  637420.9841\n",
       "3          SHIBBOLIM   865  162693.9971  589541.0036\n",
       "4            YOTVATA   866  205802.5761  422945.2318\n",
       "...              ...   ...          ...          ...\n",
       "1235     BET SHEMESH  2610  199203.4669  628089.6932\n",
       "1236      QIRYAT ONO  2620  186802.4399  662891.2008\n",
       "1237      QIRYAT GAT  2630  178645.1995  612555.1406\n",
       "1238     ROSH HAAYIN  2640  196219.0173  667109.6278\n",
       "1239  RAMAT HASHARON  2650  185142.2704  671471.2297\n",
       "\n",
       "[1240 rows x 4 columns]"
      ]
     },
     "execution_count": 4,
     "metadata": {},
     "output_type": "execute_result"
    }
   ],
   "source": [
    "import pandas as pd\n",
    "\n",
    "# covert into a dataframe\n",
    "dfcols = ['name', 'code', 'ita_x', 'ita_y']\n",
    "df_cities = pd.DataFrame(columns=dfcols)\n",
    "for elem in xml.iter('Record'):\n",
    "    \n",
    "    values = elem.find(\"Values\").findall(\"Value\");\n",
    "    x = float(values[1].find(\"X\").text)\n",
    "    y = float(values[1].find(\"Y\").text)\n",
    "    code = int(values[3].text);\n",
    "    name = values[8].text;\n",
    "    \n",
    "    df_cities = df_cities.append(pd.Series([name, code, x, y], index=dfcols), ignore_index=True)\n",
    "    \n",
    "df_cities"
   ]
  },
  {
   "cell_type": "code",
   "execution_count": 5,
   "metadata": {},
   "outputs": [
    {
     "data": {
      "text/html": [
       "<div>\n",
       "<style scoped>\n",
       "    .dataframe tbody tr th:only-of-type {\n",
       "        vertical-align: middle;\n",
       "    }\n",
       "\n",
       "    .dataframe tbody tr th {\n",
       "        vertical-align: top;\n",
       "    }\n",
       "\n",
       "    .dataframe thead th {\n",
       "        text-align: right;\n",
       "    }\n",
       "</style>\n",
       "<table border=\"1\" class=\"dataframe\">\n",
       "  <thead>\n",
       "    <tr style=\"text-align: right;\">\n",
       "      <th></th>\n",
       "      <th>name</th>\n",
       "      <th>code</th>\n",
       "      <th>ita_x</th>\n",
       "      <th>ita_y</th>\n",
       "    </tr>\n",
       "  </thead>\n",
       "  <tbody>\n",
       "    <tr>\n",
       "      <th>895</th>\n",
       "      <td>JERUSALEM</td>\n",
       "      <td>3000</td>\n",
       "      <td>219940.9424</td>\n",
       "      <td>631894.6257</td>\n",
       "    </tr>\n",
       "    <tr>\n",
       "      <th>945</th>\n",
       "      <td>HAIFA</td>\n",
       "      <td>4000</td>\n",
       "      <td>200365.1450</td>\n",
       "      <td>745249.6602</td>\n",
       "    </tr>\n",
       "    <tr>\n",
       "      <th>983</th>\n",
       "      <td>TEL AVIV - YAFO</td>\n",
       "      <td>5000</td>\n",
       "      <td>179131.2107</td>\n",
       "      <td>665171.1246</td>\n",
       "    </tr>\n",
       "    <tr>\n",
       "      <th>987</th>\n",
       "      <td>BAQA -JATT</td>\n",
       "      <td>6000</td>\n",
       "      <td>203823.4398</td>\n",
       "      <td>702459.3877</td>\n",
       "    </tr>\n",
       "    <tr>\n",
       "      <th>1000</th>\n",
       "      <td>LOD</td>\n",
       "      <td>7000</td>\n",
       "      <td>189528.4806</td>\n",
       "      <td>650930.7141</td>\n",
       "    </tr>\n",
       "    <tr>\n",
       "      <th>1099</th>\n",
       "      <td>ZEFAT</td>\n",
       "      <td>8000</td>\n",
       "      <td>247233.3444</td>\n",
       "      <td>763547.3570</td>\n",
       "    </tr>\n",
       "  </tbody>\n",
       "</table>\n",
       "</div>"
      ],
      "text/plain": [
       "                 name  code        ita_x        ita_y\n",
       "895         JERUSALEM  3000  219940.9424  631894.6257\n",
       "945             HAIFA  4000  200365.1450  745249.6602\n",
       "983   TEL AVIV - YAFO  5000  179131.2107  665171.1246\n",
       "987        BAQA -JATT  6000  203823.4398  702459.3877\n",
       "1000              LOD  7000  189528.4806  650930.7141\n",
       "1099            ZEFAT  8000  247233.3444  763547.3570"
      ]
     },
     "execution_count": 5,
     "metadata": {},
     "output_type": "execute_result"
    }
   ],
   "source": [
    "cities = [3000, 4000, 5000, 6000, 7000, 8000]\n",
    "df_cities.loc[df_cities['code'].isin(cities)]\n"
   ]
  },
  {
   "cell_type": "code",
   "execution_count": 9,
   "metadata": {},
   "outputs": [
    {
     "data": {
      "application/vnd.jupyter.widget-view+json": {
       "model_id": "08cd560dd2a04607add9ac3cceece935",
       "version_major": 2,
       "version_minor": 0
      },
      "text/plain": [
       "Map(center=[32.046874, 34.7455205], controls=(ZoomControl(options=['position', 'zoom_in_text', 'zoom_in_title'…"
      ]
     },
     "metadata": {},
     "output_type": "display_data"
    }
   ],
   "source": [
    "from ipyleaflet import Map, Marker\n",
    "\n",
    "# example for setting up a map\n",
    "\n",
    "center = (32.046874,34.7455205)\n",
    "\n",
    "m = Map(center=center, zoom=8)\n",
    "\n",
    "marker = Marker(location=center, draggable=False)\n",
    "m.add_layer(marker);\n",
    "m"
   ]
  },
  {
   "cell_type": "code",
   "execution_count": 10,
   "metadata": {},
   "outputs": [
    {
     "name": "stdout",
     "output_type": "stream",
     "text": [
      "(31.778345, 35.2250786)\n"
     ]
    }
   ],
   "source": [
    "from geopy.geocoders import Nominatim\n",
    "geolocator = Nominatim(user_agent=\"dkddj\")\n",
    "location = geolocator.geocode(\"ירושלים\")\n",
    "print((location.latitude, location.longitude))"
   ]
  },
  {
   "cell_type": "code",
   "execution_count": 11,
   "metadata": {},
   "outputs": [
    {
     "data": {
      "text/plain": [
       "(31.778345, 35.2250786)"
      ]
     },
     "execution_count": 11,
     "metadata": {},
     "output_type": "execute_result"
    }
   ],
   "source": [
    "def gps(name):\n",
    "    location = Nominatim(user_agent=\"dkddj\").geocode(\"ירושלים\")\n",
    "    return (location.latitude, location.longitude)\n",
    "\n",
    "gps(\"ירושלים\")"
   ]
  },
  {
   "cell_type": "code",
   "execution_count": 12,
   "metadata": {},
   "outputs": [],
   "source": [
    "#df2 = df['gps'] = df.apply(lambda x: gps(x['שם ישוב']), axis=1)"
   ]
  },
  {
   "cell_type": "code",
   "execution_count": null,
   "metadata": {},
   "outputs": [],
   "source": []
  }
 ],
 "metadata": {
  "kernelspec": {
   "display_name": "Python 3",
   "language": "python",
   "name": "python3"
  },
  "language_info": {
   "codemirror_mode": {
    "name": "ipython",
    "version": 3
   },
   "file_extension": ".py",
   "mimetype": "text/x-python",
   "name": "python",
   "nbconvert_exporter": "python",
   "pygments_lexer": "ipython3",
   "version": "3.7.6"
  }
 },
 "nbformat": 4,
 "nbformat_minor": 4
}
