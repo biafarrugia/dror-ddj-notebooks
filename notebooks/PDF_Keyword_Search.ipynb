{
 "cells": [
  {
   "cell_type": "code",
   "execution_count": 13,
   "metadata": {},
   "outputs": [],
   "source": [
    "# some definitions and constants\n",
    "pdf_folder = \"/Users/drorkessler/Documents/GitHub/MED7369-Specialist-Investigative-Journalism/accounts/exampleaccounts\"\n",
    "\n",
    "keywords = [\n",
    "    \"going concern\",\n",
    "    \"emphasis matter\",\n",
    "    \"material risk\",\n",
    "    \"qualified opinion\",\n",
    "    \"uncertainty\"\n",
    "]\n",
    "\n",
    "# imports\n",
    "import textract\n",
    "import os\n"
   ]
  },
  {
   "cell_type": "code",
   "execution_count": 20,
   "metadata": {},
   "outputs": [
    {
     "name": "stdout",
     "output_type": "stream",
     "text": [
      "burnden-leisure-ar-2012-web-ready201-470561.pdf going concern\n",
      "burnden-leisure-ar-2012-web-ready201-470561.pdf uncertainty\n",
      "sainsburys-ar-2017-financial-statements.pdf going concern\n",
      "sainsburys-ar-2017-financial-statements.pdf uncertainty\n",
      "Carillion-annual-report-2016-Intangibles.pdf going concern\n",
      "Carillion-annual-report-2016-Intangibles.pdf uncertainty\n",
      "rbs-group-accounts-2008.pdf going concern\n",
      "rbs-group-accounts-2008.pdf material risk\n",
      "rbs-group-accounts-2008.pdf qualified opinion\n",
      "rbs-group-accounts-2008.pdf uncertainty\n",
      "xl-statement-assets.pdf going concern\n",
      "xl-statement-assets.pdf uncertainty\n",
      "gun__1318505919_Arsenal_Holdings_plc_Annual_Re.pdf going concern\n",
      "berkeley-annual-report-2014.pdf going concern\n",
      "berkeley-annual-report-2014.pdf uncertainty\n",
      "oxfam-annual-report-2016-17-v2.pdf going concern\n",
      "Centrica_annual_report_2018.pdf going concern\n",
      "Centrica_annual_report_2018.pdf material risk\n",
      "Centrica_annual_report_2018.pdf qualified opinion\n",
      "Centrica_annual_report_2018.pdf uncertainty\n",
      "2010-barclays-plc-annual-report.pdf going concern\n",
      "2010-barclays-plc-annual-report.pdf material risk\n",
      "2010-barclays-plc-annual-report.pdf uncertainty\n"
     ]
    }
   ],
   "source": [
    "for filename in os.listdir(pdf_folder):\n",
    "    if filename.endswith(\".pdf\"): \n",
    "        text = textract.process(os.path.join(pdf_folder, filename)).decode('utf8').lower()\n",
    "        for keyword in keywords:\n",
    "            if keyword in text:\n",
    "                print(filename, keyword)"
   ]
  },
  {
   "cell_type": "code",
   "execution_count": null,
   "metadata": {},
   "outputs": [],
   "source": []
  }
 ],
 "metadata": {
  "kernelspec": {
   "display_name": "Python 3",
   "language": "python",
   "name": "python3"
  },
  "language_info": {
   "codemirror_mode": {
    "name": "ipython",
    "version": 3
   },
   "file_extension": ".py",
   "mimetype": "text/x-python",
   "name": "python",
   "nbconvert_exporter": "python",
   "pygments_lexer": "ipython3",
   "version": "3.7.6"
  }
 },
 "nbformat": 4,
 "nbformat_minor": 4
}
